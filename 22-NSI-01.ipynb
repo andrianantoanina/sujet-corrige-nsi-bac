{
 "cells": [
  {
   "cell_type": "markdown",
   "id": "bfd561bd",
   "metadata": {},
   "source": [
    "---\n",
    "\n",
    "# <p style=\"text-align: center;\">  BACCALAUREAT SESSION 2022 </p>\n",
    "### <p style=\"text-align: center;\">Épreuve de l’enseignement de spécialité - NUMERIQUE et SCIENCES INFORMATIQUES </p>\n",
    "<p style=\"text-align: center;\"> <strong> Partie pratique Classe Terminale de la voie générale </strong> </p>\n",
    "\n",
    "<p style=\"text-align: center;\"> <strong>Sujet n°1 </strong>\n",
    "\n",
    "**EXERCICE 1 (4 points)**\n",
    "\n",
    "Écrire une **fonction** recherche qui prend en paramètres caractère, un caractère, et mot, une chaîne de caractères, et qui renvoie le nombre d’occurrences de caractère dans mot, c’est-à-dire le nombre de fois où caractère apparaît dans mot.  \n",
    "**Exemples :**  \n",
    "\\>>> _recherche('e', \"sciences\")_  \n",
    "2 \n",
    "\n",
    "\\>>> _recherche('i',\"mississippi\")_  \n",
    "4  \n",
    "    \n",
    "\\>>> _recherche('a',\"mississippi\")_  \n",
    "0"
   ]
  },
  {
   "cell_type": "code",
   "execution_count": 14,
   "id": "0cad31e1",
   "metadata": {},
   "outputs": [],
   "source": [
    "# Proposition 1 :\n",
    "def recherche(car, mot):\n",
    "    \"\"\"Fonction qui recherche le nombre d’occurrences de caractere dans un mot\"\n",
    "    Entree: caractère a rechercher, le mot contenant le nombre d'occurence du caractere considere\n",
    "    Postcondition : nombre d'occurrence du caractère\"\"\"\n",
    "    c = 0 \n",
    "    for i in mot: \n",
    "        if i == car:\n",
    "            c += 1 \n",
    "    return c"
   ]
  },
  {
   "cell_type": "code",
   "execution_count": 13,
   "id": "99e0e395",
   "metadata": {},
   "outputs": [],
   "source": [
    "# Proposition 2 :\n",
    "def recherche(car,mot):\n",
    "    \"\"\"Fonction qui recherche le nombre d’occurrences de caractere dans un mot\"\n",
    "    Entree: caractère a rechercher, le mot contenant le nombre d'occurence du caractere considere\n",
    "    Postcondition : nombre d'occurrence du caractère\"\"\"\n",
    "    occurence = dict()\n",
    "    for i in mot:\n",
    "        if occurence.get(i):\n",
    "            occurence[i] += 1\n",
    "        else:\n",
    "            occurence[i] =  1\n",
    "    return occurence[car]"
   ]
  },
  {
   "cell_type": "markdown",
   "id": "9d2dafab",
   "metadata": {},
   "source": [
    "**EXERCICE 2 (4 points)**\n",
    "\n",
    "On s’intéresse à un algorithme récursif qui permet de rendre la monnaie à partir d’une liste donnée de valeurs de pièces et de billets - le système monétaire est donné sous forme d’une liste **pieces = \\[100, 50, 20, 10, 5, 2, 1\\]** - (on supposera qu’il n’y a pas de limitation quant à leur nombre), on cherche à donner la liste de pièces à rendre pour une somme donnée en argument.  \n",
    "Compléter le code Python ci-dessous de la fonction **rendu\\_glouton** qui implémente cet algorithme et renvoie la liste des pièces à rendre"
   ]
  },
  {
   "cell_type": "code",
   "execution_count": 17,
   "id": "cba66bce",
   "metadata": {},
   "outputs": [],
   "source": [
    "Pieces = [100,50,20,10,5,2,1]\n",
    "def rendu_glouton(arendre, solution=[], i=0):\n",
    "    if arendre == 0:\n",
    "        return solution\n",
    "    p = Pieces[i]\n",
    "    if p <= arendre :\n",
    "        solution.append(p)\n",
    "        return rendu_glouton(arendre - p, solution, i)\n",
    "    else :\n",
    "        return rendu_glouton(arendre, solution, i+1)"
   ]
  }
 ],
 "metadata": {
  "kernelspec": {
   "display_name": "Python 3 (ipykernel)",
   "language": "python",
   "name": "python3"
  },
  "language_info": {
   "codemirror_mode": {
    "name": "ipython",
    "version": 3
   },
   "file_extension": ".py",
   "mimetype": "text/x-python",
   "name": "python",
   "nbconvert_exporter": "python",
   "pygments_lexer": "ipython3",
   "version": "3.10.4"
  }
 },
 "nbformat": 4,
 "nbformat_minor": 5
}
